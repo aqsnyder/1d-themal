{
 "cells": [
  {
   "cell_type": "code",
   "execution_count": 1,
   "metadata": {},
   "outputs": [],
   "source": [
    "import numpy as np\n",
    "import matplotlib.pyplot as plt\n",
    "import pandas as pd\n",
    "import plotly.express as px\n",
    "import plotly.graph_objs as go\n",
    "import plotly.offline as pyo\n",
    "from scipy.integrate import solve_ivp"
   ]
  },
  {
   "cell_type": "code",
   "execution_count": 2,
   "metadata": {},
   "outputs": [],
   "source": [
    "rho_pp = 900    # Density of pp in kg/m^3\n",
    "rho_al = 2700   # Density of aluminum in kg/m^3\n",
    "rho_w = 1000    # Density of water in kg/m^3\n",
    "\n",
    "c_pp = 1920     # Specific heat of pp in J/kg.K\n",
    "c_al = 897      # Specific heat of aluminum in J/kg.K\n",
    "c_w = 4186      # Specific heat of water in J/kg.K\n",
    "\n",
    "k_pp = 0.28     # Thermal conductivity of pp in W/m.K\n",
    "k_al = 237      # Thermal conductivity of aluminum in W/m.K"
   ]
  },
  {
   "cell_type": "code",
   "execution_count": 3,
   "metadata": {},
   "outputs": [],
   "source": [
    "# Geometric properties - tunable parameters\n",
    "L_pp = 7.6e-5   # Thickness of pp prism in m (0.076mm)\n",
    "L_al_heating = 0.005  # Thickness of aluminum block during heating in m (5mm)\n",
    "L_al_cooling = 0.1  # Increased thickness of aluminum block during cooling in m\n",
    "\n",
    "A_pp = 1.26e-5  # Area of pp prism in m^2 (Marc to provide XY dim)\n",
    "A_al = A_pp * 8     # Area of aluminum block in m^2 (Marc to provide XY dim)\n",
    "\n",
    "V_w = 1.5e-8    # Volume of water in m^3 (15uL)"
   ]
  },
  {
   "cell_type": "code",
   "execution_count": 4,
   "metadata": {},
   "outputs": [],
   "source": [
    "# Thermal capacitance - calculated\n",
    "C_pp = rho_pp * L_pp * A_pp * c_pp        # Thermal capacitance of pp\n",
    "C_w = rho_w * V_w * c_w                   # Thermal capacitance of water\n",
    "C_al_heating = rho_al * L_al_heating * A_al * c_al  # Thermal capacitance of aluminum during heating\n",
    "C_al_cooling = rho_al * L_al_cooling * A_al * c_al  # Increased thermal capacitance of aluminum during cooling"
   ]
  },
  {
   "cell_type": "code",
   "execution_count": 5,
   "metadata": {},
   "outputs": [],
   "source": [
    "# Thermal resistance\n",
    "R_al_pp = L_al_heating / (k_al * A_al)            # Thermal resistance between aluminum and pp\n",
    "R_pp_w = L_pp / (k_pp * A_pp)             # Thermal resistance between pp and water\n",
    "\n",
    "P_input = 8.33  # Heater power in watts (value for individual well)"
   ]
  },
  {
   "cell_type": "code",
   "execution_count": 6,
   "metadata": {},
   "outputs": [],
   "source": [
    "cooling = False\n",
    "\n",
    "# Apply ODE\n",
    "def thermal_model(t, T):\n",
    "    T_al, T_pp, T_w = T\n",
    "    \n",
    "    if cooling:\n",
    "        Q_heater_al = 0\n",
    "    else:\n",
    "        Q_heater_al = P_input if T_al < 110 else 0\n",
    "    \n",
    "    Q_al_pp = (T_al - T_pp) / R_al_pp\n",
    "\n",
    "    dT_al_dt = (Q_heater_al - Q_al_pp) / (C_al_heating if not cooling else C_al_cooling)\n",
    "    dT_pp_dt = (Q_al_pp - (T_pp - T_w) / R_pp_w) / C_pp\n",
    "    dT_w_dt = (T_pp - T_w) / (R_pp_w * C_w)\n",
    "\n",
    "    return [dT_al_dt, dT_pp_dt, dT_w_dt]"
   ]
  },
  {
   "cell_type": "code",
   "execution_count": 7,
   "metadata": {},
   "outputs": [],
   "source": [
    "def event_heat_on(t, T):\n",
    "    return T[2] - 100\n",
    "event_heat_on.terminal = True\n",
    "\n",
    "def event_cool_end(t, T):\n",
    "    return T[2] - 60\n",
    "event_cool_end.terminal = True"
   ]
  },
  {
   "cell_type": "code",
   "execution_count": 8,
   "metadata": {},
   "outputs": [],
   "source": [
    "# single cycle\n",
    "\n",
    "# Initial conditions ()\n",
    "T0 = [110, 60, 60]\n",
    "\n",
    "# Solve for heating phase\n",
    "sol1 = solve_ivp(thermal_model, [0, 2000], T0, events=event_heat_on, t_eval=np.linspace(0, 2000, 4000))\n",
    "\n",
    "cooling = True  # Begin cooling process\n",
    "\n",
    "# Reset temperature for aluminum during cooling phase\n",
    "T0_cool = [50, sol1.y[1, -1], sol1.y[2, -1]]  # Aluminum starts at 50°C\n",
    "sol2 = solve_ivp(thermal_model, [sol1.t[-1], 4000], T0_cool, events=event_cool_end, t_eval=np.linspace(sol1.t[-1], 4000, 4000))\n",
    "\n",
    "# Concatenate time and temperature arrays\n",
    "t_total = np.concatenate((sol1.t, sol2.t))\n",
    "T_total = np.column_stack((np.concatenate((sol1.y[0], sol2.y[0])),\n",
    "                           np.concatenate((sol1.y[1], sol2.y[1])),\n",
    "                           np.concatenate((sol1.y[2], sol2.y[2])))).T\n"
   ]
  },
  {
   "cell_type": "code",
   "execution_count": 9,
   "metadata": {},
   "outputs": [],
   "source": [
    "# multi cycle\n",
    "\n",
    "# Initialize empty arrays to store results for 40 cycles\n",
    "t_cycles = np.array([])\n",
    "T_al_cycles = np.array([])\n",
    "T_pp_cycles = np.array([])\n",
    "T_w_cycles = np.array([])\n",
    "\n",
    "# Initialize the first set of initial conditions\n",
    "T0 = [100, 60, 60]\n",
    "cool_al_final_temp = 50  # Initial cooling aluminum plate temperature\n",
    "t_start = 0\n",
    "\n",
    "# Loop through 40 cycles\n",
    "for cycle in range(40):\n",
    "    cooling = False  # Reset the cooling flag\n",
    "    sol1 = solve_ivp(thermal_model, [t_start, t_start+2000], T0, events=event_heat_on, t_eval=np.linspace(t_start, t_start+2000, 4000))\n",
    "    cooling = True  # Begin cooling process\n",
    "    \n",
    "    T0_cool = [cool_al_final_temp, sol1.y[1, -1], sol1.y[2, -1]]  # Use the last cooling temperature for aluminum\n",
    "    sol2 = solve_ivp(thermal_model, [sol1.t[-1], sol1.t[-1]+2000], T0_cool, events=event_cool_end, t_eval=np.linspace(sol1.t[-1], sol1.t[-1]+2000, 4000))\n",
    "\n",
    "    # Concatenate time and temperature arrays\n",
    "    t_cycles = np.concatenate((t_cycles, sol1.t, sol2.t))\n",
    "    T_al_cycles = np.concatenate((T_al_cycles, sol1.y[0], sol2.y[0]))\n",
    "    T_pp_cycles = np.concatenate((T_pp_cycles, sol1.y[1], sol2.y[1]))\n",
    "    T_w_cycles = np.concatenate((T_w_cycles, sol1.y[2], sol2.y[2]))\n",
    "\n",
    "    # Update the initial conditions and the starting time for the next cycle\n",
    "    T0 = [sol2.y[0, -1], sol2.y[1, -1], sol2.y[2, -1]]\n",
    "    cool_al_final_temp = sol2.y[0, -1]  # Update the cooling aluminum plate temperature\n",
    "    t_start = sol2.t[-1]\n"
   ]
  },
  {
   "cell_type": "code",
   "execution_count": 10,
   "metadata": {},
   "outputs": [
    {
     "data": {
      "application/vnd.plotly.v1+json": {
       "config": {
        "plotlyServerURL": "https://plot.ly"
       },
       "data": [
        {
         "hovertemplate": "variable=Aluminum Temperature<br>Time (s)=%{x}<br>Temperature (°C)=%{y}<extra></extra>",
         "legendgroup": "Aluminum Temperature",
         "line": {
          "color": "#636efa",
          "dash": "solid",
          "width": 2
         },
         "marker": {
          "symbol": "circle"
         },
         "mode": "lines",
         "name": "Aluminum Temperature",
         "orientation": "v",
         "showlegend": true,
         "type": "scatter",
         "x": [
          0,
          0.5001250312578145,
          1.000250062515629,
          1.5003750937734435,
          2.000500125031258,
          2.000500125031258,
          3.0002499374531055,
          3.999999749874953
         ],
         "xaxis": "x",
         "y": [
          110,
          110.002664494934,
          110.00042906161822,
          110.00370777913831,
          110.00004552574465,
          50,
          50.06863383769594,
          50.09966689852483
         ],
         "yaxis": "y"
        },
        {
         "hovertemplate": "variable=Polypropylene Temperature<br>Time (s)=%{x}<br>Temperature (°C)=%{y}<extra></extra>",
         "legendgroup": "Polypropylene Temperature",
         "line": {
          "color": "#EF553B",
          "dash": "solid",
          "width": 2
         },
         "marker": {
          "symbol": "circle"
         },
         "mode": "lines",
         "name": "Polypropylene Temperature",
         "orientation": "v",
         "showlegend": true,
         "type": "scatter",
         "x": [
          0,
          0.5001250312578145,
          1.000250062515629,
          1.5003750937734435,
          2.000500125031258,
          2.000500125031258,
          3.0002499374531055,
          3.999999749874953
         ],
         "xaxis": "x",
         "y": [
          60,
          109.60055936391316,
          109.58268620711515,
          109.88732270911568,
          109.92254079063048,
          109.92254079063048,
          50.31457927790469,
          50.20897980828343
         ],
         "yaxis": "y"
        },
        {
         "hovertemplate": "variable=Water Temperature<br>Time (s)=%{x}<br>Temperature (°C)=%{y}<extra></extra>",
         "legendgroup": "Water Temperature",
         "line": {
          "color": "#00cc96",
          "dash": "solid",
          "width": 2
         },
         "marker": {
          "symbol": "circle"
         },
         "mode": "lines",
         "name": "Water Temperature",
         "orientation": "v",
         "showlegend": true,
         "type": "scatter",
         "x": [
          0,
          0.5001250312578145,
          1.000250062515629,
          1.5003750937734435,
          2.000500125031258,
          2.000500125031258,
          3.0002499374531055,
          3.999999749874953
         ],
         "xaxis": "x",
         "y": [
          60,
          75.32286554364443,
          85.95626023060035,
          93.32926023128432,
          98.4417791018243,
          98.4417791018243,
          73.32781812996095,
          61.264946989513824
         ],
         "yaxis": "y"
        }
       ],
       "layout": {
        "legend": {
         "orientation": "h",
         "title": {
          "text": "variable"
         },
         "tracegroupgap": 0,
         "x": 1,
         "xanchor": "right",
         "y": 1.02,
         "yanchor": "bottom"
        },
        "template": {
         "data": {
          "bar": [
           {
            "error_x": {
             "color": "#2a3f5f"
            },
            "error_y": {
             "color": "#2a3f5f"
            },
            "marker": {
             "line": {
              "color": "#E5ECF6",
              "width": 0.5
             },
             "pattern": {
              "fillmode": "overlay",
              "size": 10,
              "solidity": 0.2
             }
            },
            "type": "bar"
           }
          ],
          "barpolar": [
           {
            "marker": {
             "line": {
              "color": "#E5ECF6",
              "width": 0.5
             },
             "pattern": {
              "fillmode": "overlay",
              "size": 10,
              "solidity": 0.2
             }
            },
            "type": "barpolar"
           }
          ],
          "carpet": [
           {
            "aaxis": {
             "endlinecolor": "#2a3f5f",
             "gridcolor": "white",
             "linecolor": "white",
             "minorgridcolor": "white",
             "startlinecolor": "#2a3f5f"
            },
            "baxis": {
             "endlinecolor": "#2a3f5f",
             "gridcolor": "white",
             "linecolor": "white",
             "minorgridcolor": "white",
             "startlinecolor": "#2a3f5f"
            },
            "type": "carpet"
           }
          ],
          "choropleth": [
           {
            "colorbar": {
             "outlinewidth": 0,
             "ticks": ""
            },
            "type": "choropleth"
           }
          ],
          "contour": [
           {
            "colorbar": {
             "outlinewidth": 0,
             "ticks": ""
            },
            "colorscale": [
             [
              0,
              "#0d0887"
             ],
             [
              0.1111111111111111,
              "#46039f"
             ],
             [
              0.2222222222222222,
              "#7201a8"
             ],
             [
              0.3333333333333333,
              "#9c179e"
             ],
             [
              0.4444444444444444,
              "#bd3786"
             ],
             [
              0.5555555555555556,
              "#d8576b"
             ],
             [
              0.6666666666666666,
              "#ed7953"
             ],
             [
              0.7777777777777778,
              "#fb9f3a"
             ],
             [
              0.8888888888888888,
              "#fdca26"
             ],
             [
              1,
              "#f0f921"
             ]
            ],
            "type": "contour"
           }
          ],
          "contourcarpet": [
           {
            "colorbar": {
             "outlinewidth": 0,
             "ticks": ""
            },
            "type": "contourcarpet"
           }
          ],
          "heatmap": [
           {
            "colorbar": {
             "outlinewidth": 0,
             "ticks": ""
            },
            "colorscale": [
             [
              0,
              "#0d0887"
             ],
             [
              0.1111111111111111,
              "#46039f"
             ],
             [
              0.2222222222222222,
              "#7201a8"
             ],
             [
              0.3333333333333333,
              "#9c179e"
             ],
             [
              0.4444444444444444,
              "#bd3786"
             ],
             [
              0.5555555555555556,
              "#d8576b"
             ],
             [
              0.6666666666666666,
              "#ed7953"
             ],
             [
              0.7777777777777778,
              "#fb9f3a"
             ],
             [
              0.8888888888888888,
              "#fdca26"
             ],
             [
              1,
              "#f0f921"
             ]
            ],
            "type": "heatmap"
           }
          ],
          "heatmapgl": [
           {
            "colorbar": {
             "outlinewidth": 0,
             "ticks": ""
            },
            "colorscale": [
             [
              0,
              "#0d0887"
             ],
             [
              0.1111111111111111,
              "#46039f"
             ],
             [
              0.2222222222222222,
              "#7201a8"
             ],
             [
              0.3333333333333333,
              "#9c179e"
             ],
             [
              0.4444444444444444,
              "#bd3786"
             ],
             [
              0.5555555555555556,
              "#d8576b"
             ],
             [
              0.6666666666666666,
              "#ed7953"
             ],
             [
              0.7777777777777778,
              "#fb9f3a"
             ],
             [
              0.8888888888888888,
              "#fdca26"
             ],
             [
              1,
              "#f0f921"
             ]
            ],
            "type": "heatmapgl"
           }
          ],
          "histogram": [
           {
            "marker": {
             "pattern": {
              "fillmode": "overlay",
              "size": 10,
              "solidity": 0.2
             }
            },
            "type": "histogram"
           }
          ],
          "histogram2d": [
           {
            "colorbar": {
             "outlinewidth": 0,
             "ticks": ""
            },
            "colorscale": [
             [
              0,
              "#0d0887"
             ],
             [
              0.1111111111111111,
              "#46039f"
             ],
             [
              0.2222222222222222,
              "#7201a8"
             ],
             [
              0.3333333333333333,
              "#9c179e"
             ],
             [
              0.4444444444444444,
              "#bd3786"
             ],
             [
              0.5555555555555556,
              "#d8576b"
             ],
             [
              0.6666666666666666,
              "#ed7953"
             ],
             [
              0.7777777777777778,
              "#fb9f3a"
             ],
             [
              0.8888888888888888,
              "#fdca26"
             ],
             [
              1,
              "#f0f921"
             ]
            ],
            "type": "histogram2d"
           }
          ],
          "histogram2dcontour": [
           {
            "colorbar": {
             "outlinewidth": 0,
             "ticks": ""
            },
            "colorscale": [
             [
              0,
              "#0d0887"
             ],
             [
              0.1111111111111111,
              "#46039f"
             ],
             [
              0.2222222222222222,
              "#7201a8"
             ],
             [
              0.3333333333333333,
              "#9c179e"
             ],
             [
              0.4444444444444444,
              "#bd3786"
             ],
             [
              0.5555555555555556,
              "#d8576b"
             ],
             [
              0.6666666666666666,
              "#ed7953"
             ],
             [
              0.7777777777777778,
              "#fb9f3a"
             ],
             [
              0.8888888888888888,
              "#fdca26"
             ],
             [
              1,
              "#f0f921"
             ]
            ],
            "type": "histogram2dcontour"
           }
          ],
          "mesh3d": [
           {
            "colorbar": {
             "outlinewidth": 0,
             "ticks": ""
            },
            "type": "mesh3d"
           }
          ],
          "parcoords": [
           {
            "line": {
             "colorbar": {
              "outlinewidth": 0,
              "ticks": ""
             }
            },
            "type": "parcoords"
           }
          ],
          "pie": [
           {
            "automargin": true,
            "type": "pie"
           }
          ],
          "scatter": [
           {
            "fillpattern": {
             "fillmode": "overlay",
             "size": 10,
             "solidity": 0.2
            },
            "type": "scatter"
           }
          ],
          "scatter3d": [
           {
            "line": {
             "colorbar": {
              "outlinewidth": 0,
              "ticks": ""
             }
            },
            "marker": {
             "colorbar": {
              "outlinewidth": 0,
              "ticks": ""
             }
            },
            "type": "scatter3d"
           }
          ],
          "scattercarpet": [
           {
            "marker": {
             "colorbar": {
              "outlinewidth": 0,
              "ticks": ""
             }
            },
            "type": "scattercarpet"
           }
          ],
          "scattergeo": [
           {
            "marker": {
             "colorbar": {
              "outlinewidth": 0,
              "ticks": ""
             }
            },
            "type": "scattergeo"
           }
          ],
          "scattergl": [
           {
            "marker": {
             "colorbar": {
              "outlinewidth": 0,
              "ticks": ""
             }
            },
            "type": "scattergl"
           }
          ],
          "scattermapbox": [
           {
            "marker": {
             "colorbar": {
              "outlinewidth": 0,
              "ticks": ""
             }
            },
            "type": "scattermapbox"
           }
          ],
          "scatterpolar": [
           {
            "marker": {
             "colorbar": {
              "outlinewidth": 0,
              "ticks": ""
             }
            },
            "type": "scatterpolar"
           }
          ],
          "scatterpolargl": [
           {
            "marker": {
             "colorbar": {
              "outlinewidth": 0,
              "ticks": ""
             }
            },
            "type": "scatterpolargl"
           }
          ],
          "scatterternary": [
           {
            "marker": {
             "colorbar": {
              "outlinewidth": 0,
              "ticks": ""
             }
            },
            "type": "scatterternary"
           }
          ],
          "surface": [
           {
            "colorbar": {
             "outlinewidth": 0,
             "ticks": ""
            },
            "colorscale": [
             [
              0,
              "#0d0887"
             ],
             [
              0.1111111111111111,
              "#46039f"
             ],
             [
              0.2222222222222222,
              "#7201a8"
             ],
             [
              0.3333333333333333,
              "#9c179e"
             ],
             [
              0.4444444444444444,
              "#bd3786"
             ],
             [
              0.5555555555555556,
              "#d8576b"
             ],
             [
              0.6666666666666666,
              "#ed7953"
             ],
             [
              0.7777777777777778,
              "#fb9f3a"
             ],
             [
              0.8888888888888888,
              "#fdca26"
             ],
             [
              1,
              "#f0f921"
             ]
            ],
            "type": "surface"
           }
          ],
          "table": [
           {
            "cells": {
             "fill": {
              "color": "#EBF0F8"
             },
             "line": {
              "color": "white"
             }
            },
            "header": {
             "fill": {
              "color": "#C8D4E3"
             },
             "line": {
              "color": "white"
             }
            },
            "type": "table"
           }
          ]
         },
         "layout": {
          "annotationdefaults": {
           "arrowcolor": "#2a3f5f",
           "arrowhead": 0,
           "arrowwidth": 1
          },
          "autotypenumbers": "strict",
          "coloraxis": {
           "colorbar": {
            "outlinewidth": 0,
            "ticks": ""
           }
          },
          "colorscale": {
           "diverging": [
            [
             0,
             "#8e0152"
            ],
            [
             0.1,
             "#c51b7d"
            ],
            [
             0.2,
             "#de77ae"
            ],
            [
             0.3,
             "#f1b6da"
            ],
            [
             0.4,
             "#fde0ef"
            ],
            [
             0.5,
             "#f7f7f7"
            ],
            [
             0.6,
             "#e6f5d0"
            ],
            [
             0.7,
             "#b8e186"
            ],
            [
             0.8,
             "#7fbc41"
            ],
            [
             0.9,
             "#4d9221"
            ],
            [
             1,
             "#276419"
            ]
           ],
           "sequential": [
            [
             0,
             "#0d0887"
            ],
            [
             0.1111111111111111,
             "#46039f"
            ],
            [
             0.2222222222222222,
             "#7201a8"
            ],
            [
             0.3333333333333333,
             "#9c179e"
            ],
            [
             0.4444444444444444,
             "#bd3786"
            ],
            [
             0.5555555555555556,
             "#d8576b"
            ],
            [
             0.6666666666666666,
             "#ed7953"
            ],
            [
             0.7777777777777778,
             "#fb9f3a"
            ],
            [
             0.8888888888888888,
             "#fdca26"
            ],
            [
             1,
             "#f0f921"
            ]
           ],
           "sequentialminus": [
            [
             0,
             "#0d0887"
            ],
            [
             0.1111111111111111,
             "#46039f"
            ],
            [
             0.2222222222222222,
             "#7201a8"
            ],
            [
             0.3333333333333333,
             "#9c179e"
            ],
            [
             0.4444444444444444,
             "#bd3786"
            ],
            [
             0.5555555555555556,
             "#d8576b"
            ],
            [
             0.6666666666666666,
             "#ed7953"
            ],
            [
             0.7777777777777778,
             "#fb9f3a"
            ],
            [
             0.8888888888888888,
             "#fdca26"
            ],
            [
             1,
             "#f0f921"
            ]
           ]
          },
          "colorway": [
           "#636efa",
           "#EF553B",
           "#00cc96",
           "#ab63fa",
           "#FFA15A",
           "#19d3f3",
           "#FF6692",
           "#B6E880",
           "#FF97FF",
           "#FECB52"
          ],
          "font": {
           "color": "#2a3f5f"
          },
          "geo": {
           "bgcolor": "white",
           "lakecolor": "white",
           "landcolor": "#E5ECF6",
           "showlakes": true,
           "showland": true,
           "subunitcolor": "white"
          },
          "hoverlabel": {
           "align": "left"
          },
          "hovermode": "closest",
          "mapbox": {
           "style": "light"
          },
          "paper_bgcolor": "white",
          "plot_bgcolor": "#E5ECF6",
          "polar": {
           "angularaxis": {
            "gridcolor": "white",
            "linecolor": "white",
            "ticks": ""
           },
           "bgcolor": "#E5ECF6",
           "radialaxis": {
            "gridcolor": "white",
            "linecolor": "white",
            "ticks": ""
           }
          },
          "scene": {
           "xaxis": {
            "backgroundcolor": "#E5ECF6",
            "gridcolor": "white",
            "gridwidth": 2,
            "linecolor": "white",
            "showbackground": true,
            "ticks": "",
            "zerolinecolor": "white"
           },
           "yaxis": {
            "backgroundcolor": "#E5ECF6",
            "gridcolor": "white",
            "gridwidth": 2,
            "linecolor": "white",
            "showbackground": true,
            "ticks": "",
            "zerolinecolor": "white"
           },
           "zaxis": {
            "backgroundcolor": "#E5ECF6",
            "gridcolor": "white",
            "gridwidth": 2,
            "linecolor": "white",
            "showbackground": true,
            "ticks": "",
            "zerolinecolor": "white"
           }
          },
          "shapedefaults": {
           "line": {
            "color": "#2a3f5f"
           }
          },
          "ternary": {
           "aaxis": {
            "gridcolor": "white",
            "linecolor": "white",
            "ticks": ""
           },
           "baxis": {
            "gridcolor": "white",
            "linecolor": "white",
            "ticks": ""
           },
           "bgcolor": "#E5ECF6",
           "caxis": {
            "gridcolor": "white",
            "linecolor": "white",
            "ticks": ""
           }
          },
          "title": {
           "x": 0.05
          },
          "xaxis": {
           "automargin": true,
           "gridcolor": "white",
           "linecolor": "white",
           "ticks": "",
           "title": {
            "standoff": 15
           },
           "zerolinecolor": "white",
           "zerolinewidth": 2
          },
          "yaxis": {
           "automargin": true,
           "gridcolor": "white",
           "linecolor": "white",
           "ticks": "",
           "title": {
            "standoff": 15
           },
           "zerolinecolor": "white",
           "zerolinewidth": 2
          }
         }
        },
        "title": {
         "text": "Temperature Evolution with Power Input and Cooling"
        },
        "xaxis": {
         "anchor": "y",
         "domain": [
          0,
          1
         ],
         "title": {
          "text": "Time (s)"
         }
        },
        "yaxis": {
         "anchor": "x",
         "domain": [
          0,
          1
         ],
         "title": {
          "text": "Temperature (°C)"
         }
        }
       }
      }
     },
     "metadata": {},
     "output_type": "display_data"
    },
    {
     "name": "stdout",
     "output_type": "stream",
     "text": [
      "Time for water to reach 100°C: 413.60 seconds\n",
      "Time taken for the aluminum to cool back down to 50°C: 2.50 seconds\n",
      "Time for 40 cycles: 277.40 minutes\n"
     ]
    }
   ],
   "source": [
    "# single cycle\n",
    "\n",
    "df = pd.DataFrame({\n",
    "    'Time (s)': t_total,\n",
    "    'Aluminum Temperature': T_total[0],\n",
    "    'Polypropylene Temperature': T_total[1],\n",
    "    'Water Temperature': T_total[2]\n",
    "})\n",
    "# Create an interactive line plot\n",
    "fig = px.line(df, x='Time (s)', y=['Aluminum Temperature', 'Polypropylene Temperature', 'Water Temperature'],\n",
    "              labels={'Time (s)': 'Time (s)', 'value': 'Temperature (°C)'},\n",
    "              title='Temperature Evolution with Power Input and Cooling')\n",
    "\n",
    "# Add legend, grid, and labels\n",
    "fig.update_traces(line=dict(width=2))  # Increase line width\n",
    "fig.update_layout(legend=dict(orientation=\"h\", yanchor=\"bottom\", y=1.02, xanchor=\"right\", x=1))\n",
    "fig.update_xaxes(title_text='Time (s)')\n",
    "fig.update_yaxes(title_text='Temperature (°C)')\n",
    "\n",
    "# Show the plot\n",
    "fig.show()\n",
    "\n",
    "#------------------------------------ Print Results --------------------------------\n",
    "print(f\"Time for water to reach 100°C: {sol1.t[-1]:.2f} seconds\")\n",
    "print(f\"Time taken for the aluminum to cool back down to 50°C: {sol2.t[-1]-sol1.t[-1]:.2f} seconds\")\n",
    "print(f\"Time for 40 cycles: {((sol1.t[-1] + sol2.t[-1]-sol1.t[-1]) * 40) / 60:.2f} minutes\")"
   ]
  },
  {
   "cell_type": "code",
   "execution_count": 13,
   "metadata": {},
   "outputs": [
    {
     "ename": "ValueError",
     "evalue": "\n    Invalid value of type 'builtins.bool' received for the 'grid' property of layout\n        Received value: True\n\n    The 'grid' property is an instance of Grid\n    that may be specified as:\n      - An instance of :class:`plotly.graph_objs.layout.Grid`\n      - A dict of string/value properties that will be passed\n        to the Grid constructor\n\n        Supported dict properties:\n            \n            columns\n                The number of columns in the grid. If you\n                provide a 2D `subplots` array, the length of\n                its longest row is used as the default. If you\n                give an `xaxes` array, its length is used as\n                the default. But it's also possible to have a\n                different length, if you want to leave a row at\n                the end for non-cartesian subplots.\n            domain\n                :class:`plotly.graph_objects.layout.grid.Domain\n                ` instance or dict with compatible properties\n            pattern\n                If no `subplots`, `xaxes`, or `yaxes` are given\n                but we do have `rows` and `columns`, we can\n                generate defaults using consecutive axis IDs,\n                in two ways: \"coupled\" gives one x axis per\n                column and one y axis per row. \"independent\"\n                uses a new xy pair for each cell, left-to-right\n                across each row then iterating rows according\n                to `roworder`.\n            roworder\n                Is the first row the top or the bottom? Note\n                that columns are always enumerated from left to\n                right.\n            rows\n                The number of rows in the grid. If you provide\n                a 2D `subplots` array or a `yaxes` array, its\n                length is used as the default. But it's also\n                possible to have a different length, if you\n                want to leave a row at the end for non-\n                cartesian subplots.\n            subplots\n                Used for freeform grids, where some axes may be\n                shared across subplots but others are not. Each\n                entry should be a cartesian subplot id, like\n                \"xy\" or \"x3y2\", or \"\" to leave that cell empty.\n                You may reuse x axes within the same column,\n                and y axes within the same row. Non-cartesian\n                subplots and traces that support `domain` can\n                place themselves in this grid separately using\n                the `gridcell` attribute.\n            xaxes\n                Used with `yaxes` when the x and y axes are\n                shared across columns and rows. Each entry\n                should be an x axis id like \"x\", \"x2\", etc., or\n                \"\" to not put an x axis in that column. Entries\n                other than \"\" must be unique. Ignored if\n                `subplots` is present. If missing but `yaxes`\n                is present, will generate consecutive IDs.\n            xgap\n                Horizontal space between grid cells, expressed\n                as a fraction of the total width available to\n                one cell. Defaults to 0.1 for coupled-axes\n                grids and 0.2 for independent grids.\n            xside\n                Sets where the x axis labels and titles go.\n                \"bottom\" means the very bottom of the grid.\n                \"bottom plot\" is the lowest plot that each x\n                axis is used in. \"top\" and \"top plot\" are\n                similar.\n            yaxes\n                Used with `yaxes` when the x and y axes are\n                shared across columns and rows. Each entry\n                should be an y axis id like \"y\", \"y2\", etc., or\n                \"\" to not put a y axis in that row. Entries\n                other than \"\" must be unique. Ignored if\n                `subplots` is present. If missing but `xaxes`\n                is present, will generate consecutive IDs.\n            ygap\n                Vertical space between grid cells, expressed as\n                a fraction of the total height available to one\n                cell. Defaults to 0.1 for coupled-axes grids\n                and 0.3 for independent grids.\n            yside\n                Sets where the y axis labels and titles go.\n                \"left\" means the very left edge of the grid.\n                *left plot* is the leftmost plot that each y\n                axis is used in. \"right\" and *right plot* are\n                similar.\n",
     "output_type": "error",
     "traceback": [
      "\u001b[1;31m---------------------------------------------------------------------------\u001b[0m",
      "\u001b[1;31mValueError\u001b[0m                                Traceback (most recent call last)",
      "Cell \u001b[1;32mIn[13], line 10\u001b[0m\n\u001b[0;32m      7\u001b[0m fig\u001b[39m.\u001b[39madd_trace(go\u001b[39m.\u001b[39mScatter(x\u001b[39m=\u001b[39mt_cycles, y\u001b[39m=\u001b[39mT_pp_cycles, mode\u001b[39m=\u001b[39m\u001b[39m'\u001b[39m\u001b[39mlines\u001b[39m\u001b[39m'\u001b[39m, name\u001b[39m=\u001b[39m\u001b[39m'\u001b[39m\u001b[39mPolypropylene Temperature\u001b[39m\u001b[39m'\u001b[39m))\n\u001b[0;32m      8\u001b[0m fig\u001b[39m.\u001b[39madd_trace(go\u001b[39m.\u001b[39mScatter(x\u001b[39m=\u001b[39mt_cycles, y\u001b[39m=\u001b[39mT_w_cycles, mode\u001b[39m=\u001b[39m\u001b[39m'\u001b[39m\u001b[39mlines\u001b[39m\u001b[39m'\u001b[39m, name\u001b[39m=\u001b[39m\u001b[39m'\u001b[39m\u001b[39mWater Temperature\u001b[39m\u001b[39m'\u001b[39m))\n\u001b[1;32m---> 10\u001b[0m fig\u001b[39m.\u001b[39;49mupdate_layout(\n\u001b[0;32m     11\u001b[0m     title\u001b[39m=\u001b[39;49m\u001b[39m'\u001b[39;49m\u001b[39mTemperature Evolution over 40 Cycles\u001b[39;49m\u001b[39m'\u001b[39;49m,\n\u001b[0;32m     12\u001b[0m     xaxis_title\u001b[39m=\u001b[39;49m\u001b[39m'\u001b[39;49m\u001b[39mTime (s)\u001b[39;49m\u001b[39m'\u001b[39;49m,\n\u001b[0;32m     13\u001b[0m     yaxis_title\u001b[39m=\u001b[39;49m\u001b[39m'\u001b[39;49m\u001b[39mTemperature (°C)\u001b[39;49m\u001b[39m'\u001b[39;49m,\n\u001b[0;32m     14\u001b[0m     legend\u001b[39m=\u001b[39;49m\u001b[39mdict\u001b[39;49m(x\u001b[39m=\u001b[39;49m\u001b[39m0\u001b[39;49m, y\u001b[39m=\u001b[39;49m\u001b[39m1.1\u001b[39;49m, bgcolor\u001b[39m=\u001b[39;49m\u001b[39m'\u001b[39;49m\u001b[39mrgba(255, 255, 255, 0.5)\u001b[39;49m\u001b[39m'\u001b[39;49m),  \u001b[39m# Adjusted legend positioning and background color\u001b[39;49;00m\n\u001b[0;32m     15\u001b[0m     showlegend\u001b[39m=\u001b[39;49m\u001b[39mTrue\u001b[39;49;00m,\n\u001b[0;32m     16\u001b[0m     grid\u001b[39m=\u001b[39;49m\u001b[39mTrue\u001b[39;49;00m,\n\u001b[0;32m     17\u001b[0m )\n\u001b[0;32m     19\u001b[0m \u001b[39m# Display the interactive plot\u001b[39;00m\n\u001b[0;32m     20\u001b[0m pyo\u001b[39m.\u001b[39miplot(fig)\n",
      "File \u001b[1;32mc:\\Users\\Aaron\\.virtualenvs\\1d-thermal-7oc8h9KW\\lib\\site-packages\\plotly\\graph_objs\\_figure.py:775\u001b[0m, in \u001b[0;36mFigure.update_layout\u001b[1;34m(self, dict1, overwrite, **kwargs)\u001b[0m\n\u001b[0;32m    749\u001b[0m \u001b[39mdef\u001b[39;00m \u001b[39mupdate_layout\u001b[39m(\u001b[39mself\u001b[39m, dict1\u001b[39m=\u001b[39m\u001b[39mNone\u001b[39;00m, overwrite\u001b[39m=\u001b[39m\u001b[39mFalse\u001b[39;00m, \u001b[39m*\u001b[39m\u001b[39m*\u001b[39mkwargs) \u001b[39m-\u001b[39m\u001b[39m>\u001b[39m \u001b[39m\"\u001b[39m\u001b[39mFigure\u001b[39m\u001b[39m\"\u001b[39m:\n\u001b[0;32m    750\u001b[0m \u001b[39m    \u001b[39m\u001b[39m\"\"\"\u001b[39;00m\n\u001b[0;32m    751\u001b[0m \n\u001b[0;32m    752\u001b[0m \u001b[39m    Update the properties of the figure's layout with a dict and/or with\u001b[39;00m\n\u001b[1;32m   (...)\u001b[0m\n\u001b[0;32m    773\u001b[0m \n\u001b[0;32m    774\u001b[0m \u001b[39m    \"\"\"\u001b[39;00m\n\u001b[1;32m--> 775\u001b[0m     \u001b[39mreturn\u001b[39;00m \u001b[39msuper\u001b[39m(Figure, \u001b[39mself\u001b[39m)\u001b[39m.\u001b[39mupdate_layout(dict1, overwrite, \u001b[39m*\u001b[39m\u001b[39m*\u001b[39mkwargs)\n",
      "File \u001b[1;32mc:\\Users\\Aaron\\.virtualenvs\\1d-thermal-7oc8h9KW\\lib\\site-packages\\plotly\\basedatatypes.py:1393\u001b[0m, in \u001b[0;36mBaseFigure.update_layout\u001b[1;34m(self, dict1, overwrite, **kwargs)\u001b[0m\n\u001b[0;32m   1369\u001b[0m \u001b[39mdef\u001b[39;00m \u001b[39mupdate_layout\u001b[39m(\u001b[39mself\u001b[39m, dict1\u001b[39m=\u001b[39m\u001b[39mNone\u001b[39;00m, overwrite\u001b[39m=\u001b[39m\u001b[39mFalse\u001b[39;00m, \u001b[39m*\u001b[39m\u001b[39m*\u001b[39mkwargs):\n\u001b[0;32m   1370\u001b[0m \u001b[39m    \u001b[39m\u001b[39m\"\"\"\u001b[39;00m\n\u001b[0;32m   1371\u001b[0m \u001b[39m    Update the properties of the figure's layout with a dict and/or with\u001b[39;00m\n\u001b[0;32m   1372\u001b[0m \u001b[39m    keyword arguments.\u001b[39;00m\n\u001b[1;32m   (...)\u001b[0m\n\u001b[0;32m   1391\u001b[0m \u001b[39m        The Figure object that the update_layout method was called on\u001b[39;00m\n\u001b[0;32m   1392\u001b[0m \u001b[39m    \"\"\"\u001b[39;00m\n\u001b[1;32m-> 1393\u001b[0m     \u001b[39mself\u001b[39m\u001b[39m.\u001b[39mlayout\u001b[39m.\u001b[39mupdate(dict1, overwrite\u001b[39m=\u001b[39moverwrite, \u001b[39m*\u001b[39m\u001b[39m*\u001b[39mkwargs)\n\u001b[0;32m   1394\u001b[0m     \u001b[39mreturn\u001b[39;00m \u001b[39mself\u001b[39m\n",
      "File \u001b[1;32mc:\\Users\\Aaron\\.virtualenvs\\1d-thermal-7oc8h9KW\\lib\\site-packages\\plotly\\basedatatypes.py:5136\u001b[0m, in \u001b[0;36mBasePlotlyType.update\u001b[1;34m(self, dict1, overwrite, **kwargs)\u001b[0m\n\u001b[0;32m   5134\u001b[0m     \u001b[39mwith\u001b[39;00m \u001b[39mself\u001b[39m\u001b[39m.\u001b[39mfigure\u001b[39m.\u001b[39mbatch_update():\n\u001b[0;32m   5135\u001b[0m         BaseFigure\u001b[39m.\u001b[39m_perform_update(\u001b[39mself\u001b[39m, dict1, overwrite\u001b[39m=\u001b[39moverwrite)\n\u001b[1;32m-> 5136\u001b[0m         BaseFigure\u001b[39m.\u001b[39;49m_perform_update(\u001b[39mself\u001b[39;49m, kwargs, overwrite\u001b[39m=\u001b[39;49moverwrite)\n\u001b[0;32m   5137\u001b[0m \u001b[39melse\u001b[39;00m:\n\u001b[0;32m   5138\u001b[0m     BaseFigure\u001b[39m.\u001b[39m_perform_update(\u001b[39mself\u001b[39m, dict1, overwrite\u001b[39m=\u001b[39moverwrite)\n",
      "File \u001b[1;32mc:\\Users\\Aaron\\.virtualenvs\\1d-thermal-7oc8h9KW\\lib\\site-packages\\plotly\\basedatatypes.py:3939\u001b[0m, in \u001b[0;36mBaseFigure._perform_update\u001b[1;34m(plotly_obj, update_obj, overwrite)\u001b[0m\n\u001b[0;32m   3936\u001b[0m                 plotly_obj[key] \u001b[39m=\u001b[39m val\n\u001b[0;32m   3937\u001b[0m         \u001b[39melse\u001b[39;00m:\n\u001b[0;32m   3938\u001b[0m             \u001b[39m# Assign non-compound value\u001b[39;00m\n\u001b[1;32m-> 3939\u001b[0m             plotly_obj[key] \u001b[39m=\u001b[39m val\n\u001b[0;32m   3941\u001b[0m \u001b[39melif\u001b[39;00m \u001b[39misinstance\u001b[39m(plotly_obj, \u001b[39mtuple\u001b[39m):\n\u001b[0;32m   3943\u001b[0m     \u001b[39mif\u001b[39;00m \u001b[39mlen\u001b[39m(update_obj) \u001b[39m==\u001b[39m \u001b[39m0\u001b[39m:\n\u001b[0;32m   3944\u001b[0m         \u001b[39m# Nothing to do\u001b[39;00m\n",
      "File \u001b[1;32mc:\\Users\\Aaron\\.virtualenvs\\1d-thermal-7oc8h9KW\\lib\\site-packages\\plotly\\basedatatypes.py:5875\u001b[0m, in \u001b[0;36mBaseLayoutType.__setitem__\u001b[1;34m(self, prop, value)\u001b[0m\n\u001b[0;32m   5872\u001b[0m match \u001b[39m=\u001b[39m \u001b[39mself\u001b[39m\u001b[39m.\u001b[39m_subplot_re_match(prop)\n\u001b[0;32m   5873\u001b[0m \u001b[39mif\u001b[39;00m match \u001b[39mis\u001b[39;00m \u001b[39mNone\u001b[39;00m:\n\u001b[0;32m   5874\u001b[0m     \u001b[39m# Set as ordinary property\u001b[39;00m\n\u001b[1;32m-> 5875\u001b[0m     \u001b[39msuper\u001b[39;49m(BaseLayoutHierarchyType, \u001b[39mself\u001b[39;49m)\u001b[39m.\u001b[39;49m\u001b[39m__setitem__\u001b[39;49m(prop, value)\n\u001b[0;32m   5876\u001b[0m \u001b[39melse\u001b[39;00m:\n\u001b[0;32m   5877\u001b[0m     \u001b[39m# Set as subplotid property\u001b[39;00m\n\u001b[0;32m   5878\u001b[0m     \u001b[39mself\u001b[39m\u001b[39m.\u001b[39m_set_subplotid_prop(prop, value)\n",
      "File \u001b[1;32mc:\\Users\\Aaron\\.virtualenvs\\1d-thermal-7oc8h9KW\\lib\\site-packages\\plotly\\basedatatypes.py:4865\u001b[0m, in \u001b[0;36mBasePlotlyType.__setitem__\u001b[1;34m(self, prop, value)\u001b[0m\n\u001b[0;32m   4863\u001b[0m \u001b[39m# ### Handle compound property ###\u001b[39;00m\n\u001b[0;32m   4864\u001b[0m \u001b[39mif\u001b[39;00m \u001b[39misinstance\u001b[39m(validator, CompoundValidator):\n\u001b[1;32m-> 4865\u001b[0m     \u001b[39mself\u001b[39;49m\u001b[39m.\u001b[39;49m_set_compound_prop(prop, value)\n\u001b[0;32m   4867\u001b[0m \u001b[39m# ### Handle compound array property ###\u001b[39;00m\n\u001b[0;32m   4868\u001b[0m \u001b[39melif\u001b[39;00m \u001b[39misinstance\u001b[39m(validator, (CompoundArrayValidator, BaseDataValidator)):\n",
      "File \u001b[1;32mc:\\Users\\Aaron\\.virtualenvs\\1d-thermal-7oc8h9KW\\lib\\site-packages\\plotly\\basedatatypes.py:5276\u001b[0m, in \u001b[0;36mBasePlotlyType._set_compound_prop\u001b[1;34m(self, prop, val)\u001b[0m\n\u001b[0;32m   5273\u001b[0m \u001b[39m# Import value\u001b[39;00m\n\u001b[0;32m   5274\u001b[0m \u001b[39m# ------------\u001b[39;00m\n\u001b[0;32m   5275\u001b[0m validator \u001b[39m=\u001b[39m \u001b[39mself\u001b[39m\u001b[39m.\u001b[39m_get_validator(prop)\n\u001b[1;32m-> 5276\u001b[0m val \u001b[39m=\u001b[39m validator\u001b[39m.\u001b[39;49mvalidate_coerce(val, skip_invalid\u001b[39m=\u001b[39;49m\u001b[39mself\u001b[39;49m\u001b[39m.\u001b[39;49m_skip_invalid)\n\u001b[0;32m   5278\u001b[0m \u001b[39m# Save deep copies of current and new states\u001b[39;00m\n\u001b[0;32m   5279\u001b[0m \u001b[39m# ------------------------------------------\u001b[39;00m\n\u001b[0;32m   5280\u001b[0m curr_val \u001b[39m=\u001b[39m \u001b[39mself\u001b[39m\u001b[39m.\u001b[39m_compound_props\u001b[39m.\u001b[39mget(prop, \u001b[39mNone\u001b[39;00m)\n",
      "File \u001b[1;32mc:\\Users\\Aaron\\.virtualenvs\\1d-thermal-7oc8h9KW\\lib\\site-packages\\_plotly_utils\\basevalidators.py:2484\u001b[0m, in \u001b[0;36mCompoundValidator.validate_coerce\u001b[1;34m(self, v, skip_invalid, _validate)\u001b[0m\n\u001b[0;32m   2482\u001b[0m         v \u001b[39m=\u001b[39m \u001b[39mself\u001b[39m\u001b[39m.\u001b[39mdata_class()\n\u001b[0;32m   2483\u001b[0m     \u001b[39melse\u001b[39;00m:\n\u001b[1;32m-> 2484\u001b[0m         \u001b[39mself\u001b[39;49m\u001b[39m.\u001b[39;49mraise_invalid_val(v)\n\u001b[0;32m   2486\u001b[0m v\u001b[39m.\u001b[39m_plotly_name \u001b[39m=\u001b[39m \u001b[39mself\u001b[39m\u001b[39m.\u001b[39mplotly_name\n\u001b[0;32m   2487\u001b[0m \u001b[39mreturn\u001b[39;00m v\n",
      "File \u001b[1;32mc:\\Users\\Aaron\\.virtualenvs\\1d-thermal-7oc8h9KW\\lib\\site-packages\\_plotly_utils\\basevalidators.py:287\u001b[0m, in \u001b[0;36mBaseValidator.raise_invalid_val\u001b[1;34m(self, v, inds)\u001b[0m\n\u001b[0;32m    284\u001b[0m             \u001b[39mfor\u001b[39;00m i \u001b[39min\u001b[39;00m inds:\n\u001b[0;32m    285\u001b[0m                 name \u001b[39m+\u001b[39m\u001b[39m=\u001b[39m \u001b[39m\"\u001b[39m\u001b[39m[\u001b[39m\u001b[39m\"\u001b[39m \u001b[39m+\u001b[39m \u001b[39mstr\u001b[39m(i) \u001b[39m+\u001b[39m \u001b[39m\"\u001b[39m\u001b[39m]\u001b[39m\u001b[39m\"\u001b[39m\n\u001b[1;32m--> 287\u001b[0m         \u001b[39mraise\u001b[39;00m \u001b[39mValueError\u001b[39;00m(\n\u001b[0;32m    288\u001b[0m \u001b[39m            \u001b[39m\u001b[39m\"\"\"\u001b[39;00m\n\u001b[0;32m    289\u001b[0m \u001b[39m    Invalid value of type {typ} received for the '{name}' property of {pname}\u001b[39;00m\n\u001b[0;32m    290\u001b[0m \u001b[39m        Received value: {v}\u001b[39;00m\n\u001b[0;32m    291\u001b[0m \n\u001b[0;32m    292\u001b[0m \u001b[39m{valid_clr_desc}\"\"\"\u001b[39;00m\u001b[39m.\u001b[39mformat(\n\u001b[0;32m    293\u001b[0m                 name\u001b[39m=\u001b[39mname,\n\u001b[0;32m    294\u001b[0m                 pname\u001b[39m=\u001b[39m\u001b[39mself\u001b[39m\u001b[39m.\u001b[39mparent_name,\n\u001b[0;32m    295\u001b[0m                 typ\u001b[39m=\u001b[39mtype_str(v),\n\u001b[0;32m    296\u001b[0m                 v\u001b[39m=\u001b[39m\u001b[39mrepr\u001b[39m(v),\n\u001b[0;32m    297\u001b[0m                 valid_clr_desc\u001b[39m=\u001b[39m\u001b[39mself\u001b[39m\u001b[39m.\u001b[39mdescription(),\n\u001b[0;32m    298\u001b[0m             )\n\u001b[0;32m    299\u001b[0m         )\n",
      "\u001b[1;31mValueError\u001b[0m: \n    Invalid value of type 'builtins.bool' received for the 'grid' property of layout\n        Received value: True\n\n    The 'grid' property is an instance of Grid\n    that may be specified as:\n      - An instance of :class:`plotly.graph_objs.layout.Grid`\n      - A dict of string/value properties that will be passed\n        to the Grid constructor\n\n        Supported dict properties:\n            \n            columns\n                The number of columns in the grid. If you\n                provide a 2D `subplots` array, the length of\n                its longest row is used as the default. If you\n                give an `xaxes` array, its length is used as\n                the default. But it's also possible to have a\n                different length, if you want to leave a row at\n                the end for non-cartesian subplots.\n            domain\n                :class:`plotly.graph_objects.layout.grid.Domain\n                ` instance or dict with compatible properties\n            pattern\n                If no `subplots`, `xaxes`, or `yaxes` are given\n                but we do have `rows` and `columns`, we can\n                generate defaults using consecutive axis IDs,\n                in two ways: \"coupled\" gives one x axis per\n                column and one y axis per row. \"independent\"\n                uses a new xy pair for each cell, left-to-right\n                across each row then iterating rows according\n                to `roworder`.\n            roworder\n                Is the first row the top or the bottom? Note\n                that columns are always enumerated from left to\n                right.\n            rows\n                The number of rows in the grid. If you provide\n                a 2D `subplots` array or a `yaxes` array, its\n                length is used as the default. But it's also\n                possible to have a different length, if you\n                want to leave a row at the end for non-\n                cartesian subplots.\n            subplots\n                Used for freeform grids, where some axes may be\n                shared across subplots but others are not. Each\n                entry should be a cartesian subplot id, like\n                \"xy\" or \"x3y2\", or \"\" to leave that cell empty.\n                You may reuse x axes within the same column,\n                and y axes within the same row. Non-cartesian\n                subplots and traces that support `domain` can\n                place themselves in this grid separately using\n                the `gridcell` attribute.\n            xaxes\n                Used with `yaxes` when the x and y axes are\n                shared across columns and rows. Each entry\n                should be an x axis id like \"x\", \"x2\", etc., or\n                \"\" to not put an x axis in that column. Entries\n                other than \"\" must be unique. Ignored if\n                `subplots` is present. If missing but `yaxes`\n                is present, will generate consecutive IDs.\n            xgap\n                Horizontal space between grid cells, expressed\n                as a fraction of the total width available to\n                one cell. Defaults to 0.1 for coupled-axes\n                grids and 0.2 for independent grids.\n            xside\n                Sets where the x axis labels and titles go.\n                \"bottom\" means the very bottom of the grid.\n                \"bottom plot\" is the lowest plot that each x\n                axis is used in. \"top\" and \"top plot\" are\n                similar.\n            yaxes\n                Used with `yaxes` when the x and y axes are\n                shared across columns and rows. Each entry\n                should be an y axis id like \"y\", \"y2\", etc., or\n                \"\" to not put a y axis in that row. Entries\n                other than \"\" must be unique. Ignored if\n                `subplots` is present. If missing but `xaxes`\n                is present, will generate consecutive IDs.\n            ygap\n                Vertical space between grid cells, expressed as\n                a fraction of the total height available to one\n                cell. Defaults to 0.1 for coupled-axes grids\n                and 0.3 for independent grids.\n            yside\n                Sets where the y axis labels and titles go.\n                \"left\" means the very left edge of the grid.\n                *left plot* is the leftmost plot that each y\n                axis is used in. \"right\" and *right plot* are\n                similar.\n"
     ]
    }
   ],
   "source": [
    "# multi cycle\n",
    "\n",
    "# Create an interactive line plot for temperature evolution over cycles\n",
    "fig = go.Figure()\n",
    "\n",
    "fig.add_trace(go.Scatter(x=t_cycles, y=T_al_cycles, mode='lines', name='Aluminum Temperature'))\n",
    "fig.add_trace(go.Scatter(x=t_cycles, y=T_pp_cycles, mode='lines', name='Polypropylene Temperature'))\n",
    "fig.add_trace(go.Scatter(x=t_cycles, y=T_w_cycles, mode='lines', name='Water Temperature'))\n",
    "\n",
    "fig.update_layout(\n",
    "    title='Temperature Evolution over 40 Cycles',\n",
    "    xaxis_title='Time (s)',\n",
    "    yaxis_title='Temperature (°C)',\n",
    "    xaxis_showgrid=True,  # This shows the gridlines for the x-axis\n",
    "    yaxis_showgrid=True,  # This shows the gridlines for the y-axis\n",
    "    legend=dict(x=0, y=1.1, bgcolor='rgba(255, 255, 255, 0.5)'),\n",
    "    showlegend=True,\n",
    ")\n",
    "\n",
    "# Display the interactive plot\n",
    "pyo.iplot(fig)\n",
    "\n",
    "\n",
    "# Print the results\n",
    "print(f\"Time for water to reach 100°C in the last cycle: {sol1.t[-1] - t_start:.2f} seconds\")\n",
    "print(f\"Time taken for the aluminum to cool back down to 50°C in the last cycle: {sol2.t[-1] - sol1.t[-1]:.2f} seconds\")\n",
    "\n",
    "# Calculate and print the total time for 40 cycles\n",
    "total_time = t_cycles[-1] - t_cycles[0]\n",
    "print(f\"Total time for 40 cycles: {total_time/60:.2f} minutes\")"
   ]
  }
 ],
 "metadata": {
  "kernelspec": {
   "display_name": "1d-thermal-7oc8h9KW",
   "language": "python",
   "name": "python3"
  },
  "language_info": {
   "codemirror_mode": {
    "name": "ipython",
    "version": 3
   },
   "file_extension": ".py",
   "mimetype": "text/x-python",
   "name": "python",
   "nbconvert_exporter": "python",
   "pygments_lexer": "ipython3",
   "version": "3.9.7"
  },
  "orig_nbformat": 4
 },
 "nbformat": 4,
 "nbformat_minor": 2
}
